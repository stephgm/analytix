{
 "cells": [
  {
   "cell_type": "code",
   "execution_count": null,
   "metadata": {},
   "outputs": [],
   "source": [
    "# setup\n",
    "import sys\n",
    "import os\n",
    "import h5py\n",
    "path_to_src = os.environ.get('DEV_DIR','')\n",
    "if not path_to_src:\n",
    "    print('DEV_DIR environment Variable needs to be set!!!')\n",
    "sys.path.append(path_to_src)\n",
    "sys.path.pop(0)\n",
    "\n",
    "from utils.RandomStructGenerator import makeDF\n",
    "# This utility module has numerous data filtering/sorting/manipulating functions\n",
    "import utils.StructureUtils as sutil\n",
    "import utils.PhobosFunctions as PF\n",
    "# this is our general DataFrame->HDF-5 writing function\n",
    "from utils.fileUtils import writeDFtoListH5\n",
    "# this is the JSON-file producing mapping function that speeds up reading in PHOBOS\n",
    "from utils.fileUtils import genDSDict\n",
    "\n",
    "outfile = os.path.expanduser('~/testDataFile.h5')\n",
    "# open the HDF-5 file for writing\n",
    "hh = h5py.File(outfile,'w')"
   ]
  },
  {
   "cell_type": "code",
   "execution_count": null,
   "metadata": {},
   "outputs": [],
   "source": [
    "# the makeDF() function will make a bunch of random data of various types\n",
    "data = makeDF(size=100)\n",
    "# lets save that data to our file\n",
    "# first create a group, call it data1, I like to turn on the track_order feature so the columns are\n",
    "# always in the order of the original data\n",
    "grp = hh.create_group('/data1',track_order=True)\n",
    "writeDFtoListH5(grp,data)\n",
    "data"
   ]
  },
  {
   "cell_type": "code",
   "execution_count": null,
   "metadata": {},
   "outputs": [],
   "source": [
    "# now lets filter the data and save that to the file as data1_filtered\n",
    "dataf = sutil.FilterOnField(data,'Float','<',0.5)\n",
    "grp = hh.create_group('/data1_filtered',track_order=True)\n",
    "writeDFtoListH5(grp,dataf)\n",
    "dataf"
   ]
  },
  {
   "cell_type": "code",
   "execution_count": null,
   "metadata": {},
   "outputs": [],
   "source": [
    "dataf = sutil.FilterOnField(data,'Time','==',100)\n",
    "print(dataf)\n",
    "grp = hh.create_group('/data1_eq100',track_order=True)\n",
    "writeDFtoListH5(grp,dataf)"
   ]
  },
  {
   "cell_type": "code",
   "execution_count": null,
   "metadata": {},
   "outputs": [],
   "source": [
    "dataf = sutil.FilterOnField(data,'Time','==',[100,101])\n",
    "grp = hh.create_group('/data1_list',track_order=True)\n",
    "writeDFtoListH5(grp,dataf)\n",
    "hh.close()\n",
    "# generate the JSON file\n",
    "genDSDict(outfile)\n",
    "dataf"
   ]
  },
  {
   "cell_type": "code",
   "execution_count": null,
   "metadata": {},
   "outputs": [],
   "source": []
  }
 ],
 "metadata": {
  "kernelspec": {
   "display_name": "Python 3",
   "language": "python",
   "name": "python3"
  },
  "language_info": {
   "codemirror_mode": {
    "name": "ipython",
    "version": 3
   },
   "file_extension": ".py",
   "mimetype": "text/x-python",
   "name": "python",
   "nbconvert_exporter": "python",
   "pygments_lexer": "ipython3",
   "version": "3.7.7"
  }
 },
 "nbformat": 4,
 "nbformat_minor": 4
}
