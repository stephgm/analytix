{
 "cells": [
  {
   "cell_type": "markdown",
   "metadata": {},
   "source": [
    "Template for opening H5 Files using Phobos Functions"
   ]
  },
  {
   "cell_type": "code",
   "execution_count": null,
   "metadata": {},
   "outputs": [],
   "source": [
    "import sys\n",
    "import os\n",
    "path_to_src = os.environ.get('DEV_DIR','')\n",
    "if not path_to_src:\n",
    "    print('DEV_DIR environment Variable needs to be set!!!')\n",
    "sys.path.append(path_to_src)\n",
    "sys.path.pop(0)\n",
    "import utils.PhobosFunctions as PF\n",
    "\n",
    "from ipywidgets import interact, interactive, fixed, interact_manual\n",
    "import ipywidgets as widgets\n",
    "\n",
    "startDir = os.path.expanduser('~/src/analytix')"
   ]
  },
  {
   "cell_type": "markdown",
   "metadata": {},
   "source": [
    "Get a List of all the groups available"
   ]
  },
  {
   "cell_type": "code",
   "execution_count": null,
   "metadata": {
    "scrolled": true
   },
   "outputs": [],
   "source": [
    "def file_change(change):\n",
    "    groups = PF.get_groups(change.new)\n",
    "    grp = widgets.Dropdown(options=groups,description='Groups:')\n",
    "    grp.observe(group_change, names='value')\n",
    "    display(grp)\n",
    "\n",
    "def group_change(change):\n",
    "    dsets = PF.get_dsets(file.value,change.new)\n",
    "    dset = widgets.Dropdown(options=dsets,description='Dsets:')\n",
    "    dset.observe(dset_change, names='value')\n",
    "    display(dset)\n",
    "    \n",
    "def dset_change(change):\n",
    "    data = PF.get_h5_data(file.value,grp.value,dset.value)\n",
    "    display(data)\n",
    "    \n",
    "files = list(map(lambda x: os.path.join(startDir,x),PF.gather_files(startDir,ext=['*.h5'])[1]))\n",
    "file = widgets.Dropdown(options=files,description='Files:')\n",
    "file.observe(file_change,names='value')\n",
    "display(file)\n",
    "    \n",
    "if len(files) == 1:\n",
    "    groups = PF.get_groups(file.value)\n",
    "    grp = widgets.Dropdown(options=groups,description='Groups:')\n",
    "    grp.observe(group_change, names='value')\n",
    "    display(grp)\n",
    "else:\n",
    "    groups = PF.get_groups(file.value)\n",
    "        \n",
    "if len(groups) == 1:\n",
    "    dsets = PF.get_dsets(file.value,grp.value)\n",
    "    dset = widgets.Dropdown(options=dsets,description='Dsets:')\n",
    "    dset.observe(dset_change, names='value')\n",
    "    display(dset)\n",
    "data = PF.get_h5_data(file.value,grp.value,dset.value)\n",
    "display(data)\n"
   ]
  },
  {
   "cell_type": "code",
   "execution_count": null,
   "metadata": {},
   "outputs": [],
   "source": []
  }
 ],
 "metadata": {
  "kernelspec": {
   "display_name": "Python 3",
   "language": "python",
   "name": "python3"
  },
  "language_info": {
   "codemirror_mode": {
    "name": "ipython",
    "version": 3
   },
   "file_extension": ".py",
   "mimetype": "text/x-python",
   "name": "python",
   "nbconvert_exporter": "python",
   "pygments_lexer": "ipython3",
   "version": "3.7.7"
  }
 },
 "nbformat": 4,
 "nbformat_minor": 2
}
