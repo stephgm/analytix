{
 "cells": [
  {
   "cell_type": "markdown",
   "metadata": {},
   "source": [
    "Template for opening H5 Files using Phobos Functions"
   ]
  },
  {
   "cell_type": "code",
   "execution_count": 1,
   "metadata": {},
   "outputs": [],
   "source": [
    "import sys\n",
    "import os\n",
    "sys.path.append('/home/klinetry/Desktop/Phobos3/')\n",
    "import PhobosFunctions as PF\n",
    "\n",
    "from ipywidgets import interact, interactive, fixed, interact_manual\n",
    "import ipywidgets as widgets\n",
    "\n",
    "startDir = '/home/klinetry/Desktop'"
   ]
  },
  {
   "cell_type": "markdown",
   "metadata": {},
   "source": [
    "Get a List of all the groups available"
   ]
  },
  {
   "cell_type": "code",
   "execution_count": 4,
   "metadata": {
    "scrolled": true
   },
   "outputs": [
    {
     "data": {
      "application/vnd.jupyter.widget-view+json": {
       "model_id": "1475dddf93e44d5998656a20a6d7fc0d",
       "version_major": 2,
       "version_minor": 0
      },
      "text/plain": [
       "Dropdown(description='Files:', options=('/HUGE.h5', '/Phobos3/testendedness.h5', '/hdf5Manager-master/dset.h5'…"
      ]
     },
     "metadata": {},
     "output_type": "display_data"
    },
    {
     "ename": "NameError",
     "evalue": "name 'grp' is not defined",
     "output_type": "error",
     "traceback": [
      "\u001b[0;31m---------------------------------------------------------------------------\u001b[0m",
      "\u001b[0;31mNameError\u001b[0m                                 Traceback (most recent call last)",
      "\u001b[0;32m<ipython-input-4-896dd01f418d>\u001b[0m in \u001b[0;36m<module>\u001b[0;34m\u001b[0m\n\u001b[1;32m     33\u001b[0m     \u001b[0mdset\u001b[0m\u001b[0;34m.\u001b[0m\u001b[0mobserve\u001b[0m\u001b[0;34m(\u001b[0m\u001b[0mdset_change\u001b[0m\u001b[0;34m,\u001b[0m \u001b[0mnames\u001b[0m\u001b[0;34m=\u001b[0m\u001b[0;34m'value'\u001b[0m\u001b[0;34m)\u001b[0m\u001b[0;34m\u001b[0m\u001b[0;34m\u001b[0m\u001b[0m\n\u001b[1;32m     34\u001b[0m     \u001b[0mdisplay\u001b[0m\u001b[0;34m(\u001b[0m\u001b[0mdset\u001b[0m\u001b[0;34m)\u001b[0m\u001b[0;34m\u001b[0m\u001b[0;34m\u001b[0m\u001b[0m\n\u001b[0;32m---> 35\u001b[0;31m \u001b[0mdata\u001b[0m \u001b[0;34m=\u001b[0m \u001b[0mPF\u001b[0m\u001b[0;34m.\u001b[0m\u001b[0mget_h5_data\u001b[0m\u001b[0;34m(\u001b[0m\u001b[0mfile\u001b[0m\u001b[0;34m.\u001b[0m\u001b[0mvalue\u001b[0m\u001b[0;34m,\u001b[0m\u001b[0mgrp\u001b[0m\u001b[0;34m.\u001b[0m\u001b[0mvalue\u001b[0m\u001b[0;34m,\u001b[0m\u001b[0mdset\u001b[0m\u001b[0;34m.\u001b[0m\u001b[0mvalue\u001b[0m\u001b[0;34m)\u001b[0m\u001b[0;34m\u001b[0m\u001b[0;34m\u001b[0m\u001b[0m\n\u001b[0m\u001b[1;32m     36\u001b[0m \u001b[0mdisplay\u001b[0m\u001b[0;34m(\u001b[0m\u001b[0mdata\u001b[0m\u001b[0;34m)\u001b[0m\u001b[0;34m\u001b[0m\u001b[0;34m\u001b[0m\u001b[0m\n",
      "\u001b[0;31mNameError\u001b[0m: name 'grp' is not defined"
     ]
    }
   ],
   "source": [
    "def file_change(change):\n",
    "    groups = PF.get_groups(change.new)\n",
    "    grp = widgets.Dropdown(options=groups,description='Groups:')\n",
    "    grp.observe(group_change, names='value')\n",
    "    display(grp)\n",
    "\n",
    "def group_change(change):\n",
    "    dsets = PF.get_dsets(file.value,change.new)\n",
    "    dset = widgets.Dropdown(options=dsets,description='Dsets:')\n",
    "    dset.observe(dset_change, names='value')\n",
    "    display(dset)\n",
    "    \n",
    "def dset_change(change):\n",
    "    data = PF.get_h5_data(file.value,grp.value,dset.value)\n",
    "    display(data)\n",
    "    \n",
    "files = list(map(lambda x: os.path.join(startDir,x),PF.gather_files(startDir,ext=['*.h5'])[1]))\n",
    "file = widgets.Dropdown(options=files,description='Files:')\n",
    "file.observe(file_change,names='value')\n",
    "display(file)\n",
    "    \n",
    "if len(files) == 1:\n",
    "    groups = PF.get_groups(file.value)\n",
    "    grp = widgets.Dropdown(options=groups,description='Groups:')\n",
    "    grp.observe(group_change, names='value')\n",
    "    display(grp)\n",
    "else:\n",
    "    groups = PF.get_groups(file.value)\n",
    "        \n",
    "if len(groups) == 1:\n",
    "    dsets = PF.get_dsets(file.value,grp.value)\n",
    "    dset = widgets.Dropdown(options=dsets,description='Dsets:')\n",
    "    dset.observe(dset_change, names='value')\n",
    "    display(dset)\n",
    "data = PF.get_h5_data(file.value,grp.value,dset.value)\n",
    "display(data)\n"
   ]
  },
  {
   "cell_type": "code",
   "execution_count": null,
   "metadata": {},
   "outputs": [],
   "source": []
  }
 ],
 "metadata": {
  "kernelspec": {
   "display_name": "Python 3",
   "language": "python",
   "name": "python3"
  },
  "language_info": {
   "codemirror_mode": {
    "name": "ipython",
    "version": 3
   },
   "file_extension": ".py",
   "mimetype": "text/x-python",
   "name": "python",
   "nbconvert_exporter": "python",
   "pygments_lexer": "ipython3",
   "version": "3.7.5"
  }
 },
 "nbformat": 4,
 "nbformat_minor": 2
}
