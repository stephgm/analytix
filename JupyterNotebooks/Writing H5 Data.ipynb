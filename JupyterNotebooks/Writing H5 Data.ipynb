{
 "cells": [
  {
   "cell_type": "markdown",
   "metadata": {},
   "source": [
    "# How to write data to an H5 files"
   ]
  },
  {
   "cell_type": "markdown",
   "metadata": {},
   "source": [
    "Here we are going to utilize a Python library called H5py to write our data to a file.  \n",
    "\n",
    "We will then load the file back in and analyze the structure\n",
    "\n",
    "First we will define the libraries that we need."
   ]
  },
  {
   "cell_type": "code",
   "execution_count": 1,
   "metadata": {},
   "outputs": [],
   "source": [
    "import os\n",
    "import sys\n",
    "import h5py\n",
    "import pandas as pd\n",
    "import numpy as np\n",
    "\n",
    "#The things below are just needed to open analyze the structure.  No need to import these if you're just\n",
    "#writing out the h5 file.\n",
    "sys.path.append('/home/klinetry/Desktop/Phobos3/')\n",
    "import PhobosFunctions as PF\n",
    "from ipytree import Tree, Node"
   ]
  },
  {
   "cell_type": "markdown",
   "metadata": {},
   "source": [
    "We will create a series of Pandas DataFrames to store into an h5 file.  This step would be replaced by whatever data that you want to store.\n",
    "\n",
    "I'm just going to make a list of DataFrames to start with."
   ]
  },
  {
   "cell_type": "code",
   "execution_count": 5,
   "metadata": {},
   "outputs": [
    {
     "data": {
      "text/plain": [
       "[            Time      Altitude\n",
       " 0       0.000000 -0.000000e+00\n",
       " 1       2.004008 -1.967864e+01\n",
       " 2       4.008016 -7.871454e+01\n",
       " 3       6.012024 -1.771077e+02\n",
       " 4       8.016032 -3.148582e+02\n",
       " ..           ...           ...\n",
       " 495   991.983968 -4.821758e+06\n",
       " 496   993.987976 -4.841259e+06\n",
       " 497   995.991984 -4.860800e+06\n",
       " 498   997.995992 -4.880380e+06\n",
       " 499  1000.000000 -4.900000e+06\n",
       " \n",
       " [500 rows x 2 columns],             Time      Altitude\n",
       " 0       0.000000 -0.000000e+00\n",
       " 1       2.004008 -1.967864e+01\n",
       " 2       4.008016 -7.871454e+01\n",
       " 3       6.012024 -1.771077e+02\n",
       " 4       8.016032 -3.148582e+02\n",
       " ..           ...           ...\n",
       " 495   991.983968 -4.821758e+06\n",
       " 496   993.987976 -4.841259e+06\n",
       " 497   995.991984 -4.860800e+06\n",
       " 498   997.995992 -4.880380e+06\n",
       " 499  1000.000000 -4.900000e+06\n",
       " \n",
       " [500 rows x 2 columns],             Time      Altitude\n",
       " 0       0.000000 -0.000000e+00\n",
       " 1       2.004008 -1.967864e+01\n",
       " 2       4.008016 -7.871454e+01\n",
       " 3       6.012024 -1.771077e+02\n",
       " 4       8.016032 -3.148582e+02\n",
       " ..           ...           ...\n",
       " 495   991.983968 -4.821758e+06\n",
       " 496   993.987976 -4.841259e+06\n",
       " 497   995.991984 -4.860800e+06\n",
       " 498   997.995992 -4.880380e+06\n",
       " 499  1000.000000 -4.900000e+06\n",
       " \n",
       " [500 rows x 2 columns],             Time      Altitude\n",
       " 0       0.000000 -0.000000e+00\n",
       " 1       2.004008 -1.967864e+01\n",
       " 2       4.008016 -7.871454e+01\n",
       " 3       6.012024 -1.771077e+02\n",
       " 4       8.016032 -3.148582e+02\n",
       " ..           ...           ...\n",
       " 495   991.983968 -4.821758e+06\n",
       " 496   993.987976 -4.841259e+06\n",
       " 497   995.991984 -4.860800e+06\n",
       " 498   997.995992 -4.880380e+06\n",
       " 499  1000.000000 -4.900000e+06\n",
       " \n",
       " [500 rows x 2 columns]]"
      ]
     },
     "execution_count": 5,
     "metadata": {},
     "output_type": "execute_result"
    }
   ],
   "source": [
    "dflist = []\n",
    "for i in range(4):\n",
    "    y = pd.DataFrame()\n",
    "    y['Time'] = np.linspace(0,1000,500)\n",
    "    y['Altitude'] = -.5*9.8*y['Time']**2\n",
    "    dflist.append(y)\n",
    "dflist"
   ]
  },
  {
   "cell_type": "markdown",
   "metadata": {},
   "source": [
    "Now we have our data, and are ready to write the data to an H5 file. \n",
    "\n",
    "The way data is stored inside an h5 file is through a series of groups and datasets.  The following diagram will show a basic outline of how H5 stores it's data.  \n",
    "\n",
    "NOTE:  This has no bearing on writing data to H5 files... it is just a visual aid."
   ]
  },
  {
   "cell_type": "code",
   "execution_count": 26,
   "metadata": {},
   "outputs": [
    {
     "data": {
      "application/vnd.jupyter.widget-view+json": {
       "model_id": "74cc7180998a49a691d860a9de030e0d",
       "version_major": 2,
       "version_minor": 0
      },
      "text/plain": [
       "Tree(nodes=(Node(name='MyFile.h5', nodes=(Node(name='Top Level Group 1', nodes=(Node(name='Dataset 1', nodes=(…"
      ]
     },
     "metadata": {},
     "output_type": "display_data"
    }
   ],
   "source": [
    "tree = Tree(stripes=True)\n",
    "fnode = Node('MyFile.h5')\n",
    "tree.add_node(fnode)\n",
    "\n",
    "group1 = Node('Top Level Group 1')\n",
    "group2 = Node('Top Level Group 2')\n",
    "DataSet1 = Node('Dataset 1')\n",
    "DataSet2 = Node('Dataset 2')\n",
    "DataSet3 = Node('Dataset 3')\n",
    "DataSet4 = Node('Dataset 4')\n",
    "header11 = Node('Time')\n",
    "header12 = Node('Altitude')\n",
    "series11 = Node('Pandas Series[Time]')\n",
    "series12 = Node('Pandas Series[Altitude]')\n",
    "\n",
    "header21 = Node('Time')\n",
    "header22 = Node('Altitude')\n",
    "series21 = Node('Pandas Series[Time]')\n",
    "series22 = Node('Pandas Series[Altitude]')\n",
    "\n",
    "header31 = Node('Time')\n",
    "header32 = Node('Altitude')\n",
    "series31 = Node('Pandas Series[Time]')\n",
    "series32 = Node('Pandas Series[Altitude]')\n",
    "\n",
    "header41 = Node('Time')\n",
    "header42 = Node('Altitude')\n",
    "series41 = Node('Pandas Series[Time]')\n",
    "series42 = Node('Pandas Series[Altitude]')\n",
    "\n",
    "fnode.add_node(group1)\n",
    "fnode.add_node(group2)\n",
    "group1.add_node(DataSet1)\n",
    "group1.add_node(DataSet2)\n",
    "group2.add_node(DataSet3)\n",
    "group2.add_node(DataSet4)\n",
    "\n",
    "DataSet1.add_node(header11)\n",
    "DataSet1.add_node(header12)\n",
    "header11.add_node(series11)\n",
    "header12.add_node(series12)\n",
    "\n",
    "DataSet2.add_node(header21)\n",
    "DataSet2.add_node(header22)\n",
    "header21.add_node(series21)\n",
    "header22.add_node(series22)\n",
    "\n",
    "DataSet3.add_node(header31)\n",
    "DataSet3.add_node(header32)\n",
    "header31.add_node(series31)\n",
    "header32.add_node(series32)\n",
    "\n",
    "DataSet4.add_node(header41)\n",
    "DataSet4.add_node(header42)\n",
    "header41.add_node(series41)\n",
    "header42.add_node(series42)\n",
    "\n",
    "display(tree)"
   ]
  },
  {
   "cell_type": "markdown",
   "metadata": {},
   "source": [
    "Technically speaking, H5 files can have an arbitrary number of groups and subgroups, however, to be compliant with Ares, NO H5 SHOULD HAVE MORE THAN 1 LAYER OF GROUPS.  So the Tree above is about has hierarchical as the file should ever be.\n",
    "\n",
    "NOTE:  You can put as many datasets under the groups as you want.  Here we just have 2 under each group.\n",
    "\n",
    "Now lets start writing the file.\n",
    "We will emulate the structure above."
   ]
  },
  {
   "cell_type": "code",
   "execution_count": 27,
   "metadata": {},
   "outputs": [],
   "source": [
    "OutDirectory = os.path.join(os.path.expanduser('~'),'Desktop')\n",
    "with h5py.File(os.path.join(OutDirectory,'MyFile.h5'),'w') as hf:\n",
    "    j = 0\n",
    "    for i in range(len(dflist)):\n",
    "        #Only create a new group when i is 0 or 2, because we want 2 datasets per group... This can obviously\n",
    "        # be changed in your code, however you want to set up the data.\n",
    "        if i%2 == 0:\n",
    "            j+=1\n",
    "            group = hf.create_group(f'Top Level Group {j}')\n",
    "        dset = group.create_group(f'Dataset {i+1}')\n",
    "        #This is where the data is getting written to the h5 file.  It needs to be under a group!\n",
    "        for key in dflist[i]:\n",
    "            dset.create_dataset(key,data=dflist[i][key])\n",
    "\n",
    "        \n",
    "    "
   ]
  },
  {
   "cell_type": "markdown",
   "metadata": {},
   "source": [
    "Now to load our data and see if we can see the structure that we have created, utilizing Phobos Functions"
   ]
  },
  {
   "cell_type": "code",
   "execution_count": 28,
   "metadata": {},
   "outputs": [
    {
     "name": "stdout",
     "output_type": "stream",
     "text": [
      "MyFile.h5 contains the following groups ['Top Level Group 1', 'Top Level Group 2']\n",
      "\n",
      "\n",
      "\tTop Level Group 1 contains the following datasets ['Dataset 1', 'Dataset 2']\n",
      "\t\tDataset 1 contains the following headers ['Altitude', 'Time']\n",
      "\t\tDataset 2 contains the following headers ['Altitude', 'Time']\n",
      "\n",
      "\n",
      "\tTop Level Group 2 contains the following datasets ['Dataset 3', 'Dataset 4']\n",
      "\t\tDataset 3 contains the following headers ['Altitude', 'Time']\n",
      "\t\tDataset 4 contains the following headers ['Altitude', 'Time']\n",
      "\n",
      "\n"
     ]
    }
   ],
   "source": [
    "fpath = os.path.join(OutDirectory,'MyFile.h5')\n",
    "groups = PF.get_groups(fpath)\n",
    "print(f'MyFile.h5 contains the following groups {groups}\\n\\n')\n",
    "for group in groups:\n",
    "    dsets = PF.get_dsets(fpath,group)\n",
    "    print(f'\\t{group} contains the following datasets {dsets}')\n",
    "    for dset in dsets:\n",
    "        headers = PF.get_headers(fpath,group,dset)\n",
    "        print(f'\\t\\t{dset} contains the following headers {headers}')\n",
    "    print('\\n')"
   ]
  }
 ],
 "metadata": {
  "kernelspec": {
   "display_name": "Python 3",
   "language": "python",
   "name": "python3"
  },
  "language_info": {
   "codemirror_mode": {
    "name": "ipython",
    "version": 3
   },
   "file_extension": ".py",
   "mimetype": "text/x-python",
   "name": "python",
   "nbconvert_exporter": "python",
   "pygments_lexer": "ipython3",
   "version": "3.7.5"
  }
 },
 "nbformat": 4,
 "nbformat_minor": 2
}
